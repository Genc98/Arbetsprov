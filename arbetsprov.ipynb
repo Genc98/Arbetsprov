{
 "cells": [
  {
   "cell_type": "code",
   "execution_count": 13,
   "id": "e40c0959",
   "metadata": {},
   "outputs": [
    {
     "name": "stdout",
     "output_type": "stream",
     "text": [
      "Skapade en txt.file\n"
     ]
    }
   ],
   "source": [
    "#Importerar paketet ElementTree, används för att läsa in, skapa, redigera XML-filer.\n",
    "import xml.etree.ElementTree as ET\n",
    "\n",
    "#Deklarerar en variabel lib som tilldelas värdet från XML-filen.\n",
    "lib = ET.parse('data/gentext.xml')\n",
    "\n",
    "#Deklarerar en variabel trans_unit som tilldelas värdet från sökningen i lib med id=42014.\n",
    "trans_unit = lib.find(\".//trans-unit[@id='42014']/target\")\n",
    "\n",
    "#Kontrollerar om det finns en nod i lib med id=42014.\n",
    "if trans_unit is None:\n",
    "    #Om nod inte existerar, printas följande felmeddelande.\n",
    "    print(\"Hittar inte rätt target\")\n",
    "else:\n",
    "    #Om nod existerar, skapas en txt-fil och värdet i elementet \"target\" skrivs ut.\n",
    "    with open(\"target_text.txt\", \"w\", encoding=\"utf-8\") as txt_file:\n",
    "        txt_file.write(trans_unit.text.strip())\n",
    "    print(\"Skapade en txt.file\")"
   ]
  }
 ],
 "metadata": {
  "kernelspec": {
   "display_name": ".venv",
   "language": "python",
   "name": "python3"
  },
  "language_info": {
   "codemirror_mode": {
    "name": "ipython",
    "version": 3
   },
   "file_extension": ".py",
   "mimetype": "text/x-python",
   "name": "python",
   "nbconvert_exporter": "python",
   "pygments_lexer": "ipython3",
   "version": "3.13.3"
  }
 },
 "nbformat": 4,
 "nbformat_minor": 5
}
